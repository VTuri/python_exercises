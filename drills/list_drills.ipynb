{
 "cells": [
  {
   "cell_type": "code",
   "execution_count": 16,
   "metadata": {},
   "outputs": [],
   "source": [
    "import copy"
   ]
  },
  {
   "cell_type": "code",
   "execution_count": 17,
   "metadata": {},
   "outputs": [],
   "source": [
    "num_list = [1,3,5,7,7,31,]\n",
    "string_list = [\"march\", \"europe\", \"python\",]\n",
    "mixed_list = [\"malta\", \"hungary\", 1, 10, 2020, [1,2,3]]"
   ]
  },
  {
   "cell_type": "code",
   "execution_count": 18,
   "metadata": {},
   "outputs": [],
   "source": [
    "# template cell"
   ]
  },
  {
   "cell_type": "code",
   "execution_count": 19,
   "metadata": {},
   "outputs": [
    {
     "name": "stdout",
     "output_type": "stream",
     "text": [
      "[1, 3, 5, 7, 7, 31]\n",
      "['march', 'europe', 'python']\n",
      "['malta', 'hungary', 1, 10, 2020, [1, 2, 3]]\n",
      "[1, 3, 5, 7, 7, 31]\n",
      "['march', 'europe', 'python']\n",
      "['malta', 'hungary', 1, 10, 2020, [1, 2, 3]]\n"
     ]
    }
   ],
   "source": [
    "num_copy = copy.deepcopy(num_list)\n",
    "string_copy = copy.deepcopy(string_list)\n",
    "mixed_copy = copy.deepcopy(mixed_list)\n",
    "\n",
    "print(num_copy)\n",
    "print(string_copy)\n",
    "print(mixed_copy)\n",
    "print(\"-\"*60)\n",
    "\n",
    "print(\"-\"*60)\n",
    "print(num_copy)\n",
    "print(string_copy)\n",
    "print(mixed_copy)"
   ]
  },
  {
   "cell_type": "code",
   "execution_count": 27,
   "metadata": {},
   "outputs": [
    {
     "name": "stdout",
     "output_type": "stream",
     "text": [
      "[1, 3, 5, 7, 7, 31]\n",
      "['march', 'europe', 'python']\n",
      "['malta', 'hungary', 1, 10, 2020, [1, 2, 3]]\n",
      "------------------------------------------------------------\n",
      "------------------------------------------------------------\n",
      "[1, 3, 5, 7, 7, 31, 'malta', 'hungary', 1, 10, 2020, [1, 2, 3]]\n",
      "['march', 'europe', 'python', 1, 3, 5, 7, 7, 31, 'malta', 'hungary', 1, 10, 2020, [1, 2, 3]]\n",
      "['malta', 'hungary', 1, 10, 2020, [1, 2, 3], 'march', 'europe', 'python', 1, 3, 5, 7, 7, 31, 'malta', 'hungary', 1, 10, 2020, [1, 2, 3]]\n"
     ]
    }
   ],
   "source": [
    "num_copy = copy.deepcopy(num_list)\n",
    "string_copy = copy.deepcopy(string_list)\n",
    "mixed_copy = copy.deepcopy(mixed_list)\n",
    "\n",
    "print(num_copy)\n",
    "print(string_copy)\n",
    "print(mixed_copy)\n",
    "print(\"-\"*60)\n",
    "\n",
    "num_copy.extend(mixed_copy)\n",
    "string_copy.extend(num_copy)\n",
    "mixed_copy.extend(string_copy)\n",
    "\n",
    "print(\"-\"*60)\n",
    "print(num_copy)\n",
    "print(string_copy)\n",
    "print(mixed_copy)"
   ]
  },
  {
   "cell_type": "code",
   "execution_count": 33,
   "metadata": {},
   "outputs": [
    {
     "name": "stdout",
     "output_type": "stream",
     "text": [
      "[1, 3, 5, 7, 7, 31]\n",
      "['march', 'europe', 'python']\n",
      "['malta', 'hungary', 1, 10, 2020, [1, 2, 3]]\n",
      "------------------------------------------------------------\n",
      "------------------------------------------------------------\n",
      "[1, 3, 5, 7, 7, 31, 'MODIFICATION']\n",
      "['march', 'MODIFICATION', 'europe', 'python']\n",
      "['malta', 'hungary', 1, 'MODIFICAITON', 10, 2020, [1, 2, 3]]\n"
     ]
    }
   ],
   "source": [
    "num_copy = copy.deepcopy(num_list)\n",
    "string_copy = copy.deepcopy(string_list)\n",
    "mixed_copy = copy.deepcopy(mixed_list)\n",
    "\n",
    "print(num_copy)\n",
    "print(string_copy)\n",
    "print(mixed_copy)\n",
    "print(\"-\"*60)\n",
    "\n",
    "num_copy.insert(40, \"MODIFICATION\") # If the value is over the range it appends it\n",
    "string_copy.insert(-2, \"MODIFICATION\") \n",
    "mixed_copy.insert(3, \"MODIFICAITON\")\n",
    "\n",
    "print(\"-\"*60)\n",
    "print(num_copy)\n",
    "print(string_copy)\n",
    "print(mixed_copy)"
   ]
  },
  {
   "cell_type": "code",
   "execution_count": null,
   "metadata": {},
   "outputs": [],
   "source": []
  }
 ],
 "metadata": {
  "kernelspec": {
   "display_name": "Python 3",
   "language": "python",
   "name": "python3"
  },
  "language_info": {
   "codemirror_mode": {
    "name": "ipython",
    "version": 3
   },
   "file_extension": ".py",
   "mimetype": "text/x-python",
   "name": "python",
   "nbconvert_exporter": "python",
   "pygments_lexer": "ipython3",
   "version": "3.6.5"
  }
 },
 "nbformat": 4,
 "nbformat_minor": 2
}
