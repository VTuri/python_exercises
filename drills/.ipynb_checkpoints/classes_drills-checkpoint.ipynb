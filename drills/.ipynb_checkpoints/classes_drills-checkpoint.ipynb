{
 "cells": [
  {
   "cell_type": "code",
   "execution_count": 31,
   "metadata": {},
   "outputs": [],
   "source": [
    "import random\n"
   ]
  },
  {
   "cell_type": "code",
   "execution_count": 274,
   "metadata": {},
   "outputs": [],
   "source": [
    "#class agent(object):\n",
    "    # A class to hold general information about agents: NPC and player\n",
    "    \n",
    "    \n",
    "    \n",
    "class player(object):\n",
    "    def __init__(self, name, player_class, level, hp):\n",
    "        self.__name = name\n",
    "        self.__player_class = player_class\n",
    "        self.__level = level\n",
    "        self.__hp = hp\n",
    "        \n",
    "    def greeting(self):\n",
    "        print(\"\"\"Hello, my name is {}! I'm a lvl {} {}. \\nHow can I help you?\n",
    "        \"\"\".format(self.__name, self.__level, self.__player_class))\n",
    "    \n",
    "    \n",
    "    def set_speak(self, comment):\n",
    "        self.comment = comment\n",
    "    \n",
    "    def get_speak(self):\n",
    "        print(self.comment)\n",
    "    \n",
    "    def parry(self):\n",
    "        print(\"Parry\")\n",
    "        chanche = random.uniform(0, 1)\n",
    "        print(chanche)\n",
    "        result= False\n",
    "        if chanche >0.5:\n",
    "            result = True\n",
    "        return result\n",
    "    \n",
    "    def miss(self):\n",
    "        print(\"Miss\")\n",
    "        chanche = random.uniform(0, 1)\n",
    "        print(chanche)\n",
    "        result= False\n",
    "        if chanche >0.5:\n",
    "            result = True\n",
    "        return result\n",
    "    \n",
    "    def lose_hp(self,dmg):\n",
    "        print(\"Lose HP\")\n",
    "        if self.__hp <= 0:\n",
    "            print(\"+-\")\n",
    "        else:\n",
    "            self.__hp =self.__hp-dmg\n",
    "        \n",
    "        return self.__hp\n",
    "    \n",
    "    def alive(self):\n",
    "        print(\"Alive\")\n",
    "        alive = True\n",
    "        if self.__hp <= 0:\n",
    "            print(\"Game over\")\n",
    "            alive = False\n",
    "        else:\n",
    "            print(\"Still alive\")\n",
    "        return alive\n",
    "        \n",
    "    def attack(self):\n",
    "        print(\"Attack\")\n",
    "        dmg = random.uniform(0, 10)\n",
    "        dmg = round(dmg, 4)\n",
    "        return dmg\n"
   ]
  },
  {
   "cell_type": "code",
   "execution_count": 290,
   "metadata": {},
   "outputs": [],
   "source": [
    "class fight(object):\n",
    "    def __init__(self,agent1,agent2):\n",
    "        self.agent1 = agent1\n",
    "        self.agent2 = agent2\n",
    "        \n"
   ]
  },
  {
   "cell_type": "code",
   "execution_count": null,
   "metadata": {},
   "outputs": [],
   "source": []
  },
  {
   "cell_type": "code",
   "execution_count": null,
   "metadata": {},
   "outputs": [],
   "source": []
  },
  {
   "cell_type": "code",
   "execution_count": 291,
   "metadata": {},
   "outputs": [],
   "source": [
    "guldan = player(\"guldan\", \"warlock\", 120, 20)\n",
    "thrall = player(\"Thrall\", \"shaman\", 120, 20)"
   ]
  },
  {
   "cell_type": "code",
   "execution_count": 292,
   "metadata": {},
   "outputs": [
    {
     "name": "stdout",
     "output_type": "stream",
     "text": [
      "Hello, my name is Vajk! I'm a lvl 120 warlock. \n",
      "How can I help you?\n",
      "        \n",
      "Hmmm\n"
     ]
    }
   ],
   "source": [
    "guldan.greeting()\n",
    "guldan.set_speak(\"Hmmm\")\n",
    "guldan.get_speak()"
   ]
  },
  {
   "cell_type": "code",
   "execution_count": null,
   "metadata": {},
   "outputs": [],
   "source": []
  },
  {
   "cell_type": "code",
   "execution_count": 293,
   "metadata": {},
   "outputs": [
    {
     "name": "stdout",
     "output_type": "stream",
     "text": [
      "Parry\n",
      "0.4514276631998825\n",
      "False\n",
      "----------\n",
      "Miss\n",
      "0.09088559279274111\n",
      "False\n",
      "----------\n",
      "Lose HP\n",
      "10\n",
      "----------\n",
      "Alive\n",
      "Still alive\n",
      "True\n",
      "----------\n",
      "Attack\n",
      "6.3676\n"
     ]
    }
   ],
   "source": [
    "print(guldan.parry())\n",
    "print(\"-\"*10)\n",
    "print(guldan.miss())\n",
    "print(\"-\"*10)\n",
    "print(guldan.lose_hp(10))\n",
    "print(\"-\"*10)\n",
    "print(guldan.alive())\n",
    "print(\"-\"*10)\n",
    "print(guldan.attack())"
   ]
  },
  {
   "cell_type": "code",
   "execution_count": 294,
   "metadata": {},
   "outputs": [],
   "source": [
    "battle = fight(guldan,thrall)"
   ]
  },
  {
   "cell_type": "code",
   "execution_count": 295,
   "metadata": {},
   "outputs": [
    {
     "data": {
      "text/plain": [
       "<bound method fight.status of <__main__.fight object at 0x7f9fc492a9b0>>"
      ]
     },
     "execution_count": 295,
     "metadata": {},
     "output_type": "execute_result"
    }
   ],
   "source": [
    "battle.status"
   ]
  },
  {
   "cell_type": "code",
   "execution_count": null,
   "metadata": {},
   "outputs": [],
   "source": [
    "#while guldan.alive() and thrall.alive():\n",
    "for i in range(10):\n",
    "    dmg = guldan.attack()\n",
    "    "
   ]
  },
  {
   "cell_type": "code",
   "execution_count": null,
   "metadata": {},
   "outputs": [],
   "source": []
  }
 ],
 "metadata": {
  "kernelspec": {
   "display_name": "Python 3",
   "language": "python",
   "name": "python3"
  },
  "language_info": {
   "codemirror_mode": {
    "name": "ipython",
    "version": 3
   },
   "file_extension": ".py",
   "mimetype": "text/x-python",
   "name": "python",
   "nbconvert_exporter": "python",
   "pygments_lexer": "ipython3",
   "version": "3.6.5"
  }
 },
 "nbformat": 4,
 "nbformat_minor": 2
}
