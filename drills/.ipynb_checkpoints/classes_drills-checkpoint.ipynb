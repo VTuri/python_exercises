{
 "cells": [
  {
   "cell_type": "code",
   "execution_count": 296,
   "metadata": {},
   "outputs": [],
   "source": [
    "import random\n"
   ]
  },
  {
   "cell_type": "code",
   "execution_count": 297,
   "metadata": {},
   "outputs": [],
   "source": [
    "#class agent(object):\n",
    "    # A class to hold general information about agents: NPC and player\n",
    "    \n",
    "    \n",
    "    \n",
    "class player(object):\n",
    "    def __init__(self, name, player_class, level, hp):\n",
    "        self.__name = name\n",
    "        self.__player_class = player_class\n",
    "        self.__level = level\n",
    "        self.__hp = hp\n",
    "        \n",
    "    def greeting(self):\n",
    "        print(\"\"\"Hello, my name is {}! I'm a lvl {} {}. \\nHow can I help you?\n",
    "        \"\"\".format(self.__name, self.__level, self.__player_class))\n",
    "    \n",
    "    \n",
    "    def set_speak(self, comment):\n",
    "        self.comment = comment\n",
    "    \n",
    "    def get_speak(self):\n",
    "        print(self.comment)\n",
    "    \n",
    "    def parry(self):\n",
    "        print(\"Parry\")\n",
    "        chanche = random.uniform(0, 1)\n",
    "        print(chanche)\n",
    "        result= False\n",
    "        if chanche >0.5:\n",
    "            result = True\n",
    "        return result\n",
    "    \n",
    "    def miss(self):\n",
    "        print(\"Miss\")\n",
    "        chanche = random.uniform(0, 1)\n",
    "        print(chanche)\n",
    "        result= False\n",
    "        if chanche >0.5:\n",
    "            result = True\n",
    "        return result\n",
    "    \n",
    "    def lose_hp(self,dmg):\n",
    "        print(\"Lose HP\")\n",
    "        if self.__hp <= 0:\n",
    "            print(\"+-\")\n",
    "        else:\n",
    "            self.__hp =self.__hp-dmg\n",
    "        \n",
    "        return self.__hp\n",
    "    \n",
    "    def alive(self):\n",
    "        print(\"Alive\")\n",
    "        alive = True\n",
    "        if self.__hp <= 0:\n",
    "            print(\"Game over\")\n",
    "            alive = False\n",
    "        else:\n",
    "            print(\"Still alive\")\n",
    "        return alive\n",
    "        \n",
    "    def attack(self):\n",
    "        print(\"Attack\")\n",
    "        dmg = random.uniform(0, 10)\n",
    "        dmg = round(dmg, 4)\n",
    "        return dmg\n"
   ]
  },
  {
   "cell_type": "code",
   "execution_count": 298,
   "metadata": {},
   "outputs": [],
   "source": [
    "class fight(object):\n",
    "    def __init__(self,agent1,agent2):\n",
    "        self.agent1 = agent1\n",
    "        self.agent2 = agent2\n",
    "        \n"
   ]
  },
  {
   "cell_type": "code",
   "execution_count": null,
   "metadata": {},
   "outputs": [],
   "source": []
  },
  {
   "cell_type": "code",
   "execution_count": null,
   "metadata": {},
   "outputs": [],
   "source": []
  },
  {
   "cell_type": "code",
   "execution_count": 299,
   "metadata": {},
   "outputs": [],
   "source": [
    "guldan = player(\"guldan\", \"warlock\", 120, 20)\n",
    "thrall = player(\"Thrall\", \"shaman\", 120, 20)"
   ]
  },
  {
   "cell_type": "code",
   "execution_count": 300,
   "metadata": {},
   "outputs": [
    {
     "name": "stdout",
     "output_type": "stream",
     "text": [
      "Hello, my name is guldan! I'm a lvl 120 warlock. \n",
      "How can I help you?\n",
      "        \n",
      "Hmmm\n"
     ]
    }
   ],
   "source": [
    "guldan.greeting()\n",
    "guldan.set_speak(\"Hmmm\")\n",
    "guldan.get_speak()"
   ]
  },
  {
   "cell_type": "code",
   "execution_count": null,
   "metadata": {},
   "outputs": [],
   "source": []
  },
  {
   "cell_type": "code",
   "execution_count": 301,
   "metadata": {},
   "outputs": [
    {
     "name": "stdout",
     "output_type": "stream",
     "text": [
      "Parry\n",
      "0.29988657172086486\n",
      "False\n",
      "----------\n",
      "Miss\n",
      "0.12283442403872202\n",
      "False\n",
      "----------\n",
      "Lose HP\n",
      "10\n",
      "----------\n",
      "Alive\n",
      "Still alive\n",
      "True\n",
      "----------\n",
      "Attack\n",
      "5.8378\n"
     ]
    }
   ],
   "source": [
    "print(guldan.parry())\n",
    "print(\"-\"*10)\n",
    "print(guldan.miss())\n",
    "print(\"-\"*10)\n",
    "print(guldan.lose_hp(10))\n",
    "print(\"-\"*10)\n",
    "print(guldan.alive())\n",
    "print(\"-\"*10)\n",
    "print(guldan.attack())"
   ]
  },
  {
   "cell_type": "code",
   "execution_count": 302,
   "metadata": {},
   "outputs": [],
   "source": [
    "battle = fight(guldan,thrall)"
   ]
  },
  {
   "cell_type": "code",
   "execution_count": 303,
   "metadata": {},
   "outputs": [
    {
     "ename": "AttributeError",
     "evalue": "'fight' object has no attribute 'status'",
     "output_type": "error",
     "traceback": [
      "\u001b[0;31m---------------------------------------------------------------------------\u001b[0m",
      "\u001b[0;31mAttributeError\u001b[0m                            Traceback (most recent call last)",
      "\u001b[0;32m<ipython-input-303-12e8016ab1fb>\u001b[0m in \u001b[0;36m<module>\u001b[0;34m()\u001b[0m\n\u001b[0;32m----> 1\u001b[0;31m \u001b[0mbattle\u001b[0m\u001b[0;34m.\u001b[0m\u001b[0mstatus\u001b[0m\u001b[0;34m\u001b[0m\u001b[0m\n\u001b[0m",
      "\u001b[0;31mAttributeError\u001b[0m: 'fight' object has no attribute 'status'"
     ]
    }
   ],
   "source": []
  },
  {
   "cell_type": "code",
   "execution_count": 304,
   "metadata": {},
   "outputs": [
    {
     "name": "stdout",
     "output_type": "stream",
     "text": [
      "Attack\n",
      "Attack\n",
      "Attack\n",
      "Attack\n",
      "Attack\n",
      "Attack\n",
      "Attack\n",
      "Attack\n",
      "Attack\n",
      "Attack\n"
     ]
    }
   ],
   "source": [
    "#while guldan.alive() and thrall.alive():\n",
    "for i in range(10):\n",
    "    dmg = guldan.attack()\n",
    "    "
   ]
  },
  {
   "cell_type": "code",
   "execution_count": null,
   "metadata": {},
   "outputs": [],
   "source": []
  },
  {
   "cell_type": "code",
   "execution_count": null,
   "metadata": {},
   "outputs": [],
   "source": []
  }
 ],
 "metadata": {
  "kernelspec": {
   "display_name": "Python 3",
   "language": "python",
   "name": "python3"
  },
  "language_info": {
   "codemirror_mode": {
    "name": "ipython",
    "version": 3
   },
   "file_extension": ".py",
   "mimetype": "text/x-python",
   "name": "python",
   "nbconvert_exporter": "python",
   "pygments_lexer": "ipython3",
   "version": "3.6.5"
  }
 },
 "nbformat": 4,
 "nbformat_minor": 2
}
